{
 "cells": [
  {
   "cell_type": "markdown",
   "metadata": {
    "id": "uJoxwrrcUknx"
   },
   "source": [
    "# KDD Cup 1999 Data (https://kdd.ics.uci.edu/databases/kddcup99/kddcup99.html)\n",
    "\n",
    "Conjunto de dados usado para a Terceira Competição Internacional de Ferramentas de Mineração de Dados e Descoberta de Conhecimento, que foi realizada em conjunto com a KDD-99, a Quinta Conferência Internacional sobre Descoberta de Conhecimento e Mineração de Dados.\n",
    "\n",
    "* Adaptado do artigo \"Cost-based Modeling and Evaluation for Data Mining With Application to Fraud and Intrusion Detection: Results from the JAM Project\", de Salvatore J. Stolfo, Wei Fan, Wenke Lee, Andreas Prodromidis e Philip K. Chan.\n",
    "\n",
    "* Uma conexão é uma sequência de pacotes TCP começando e terminando em alguns momentos bem definidos, entre os quais os dados fluem de e para um endereço IP de origem para um endereço IP de destino sob algum protocolo bem definido. Cada conexão é rotulada como normal ou como um ataque, com exatamente um tipo de ataque específico. Cada registro de conexão consiste em cerca de 100 bytes.\n",
    "\n",
    "## Objetivo:\n",
    "\n",
    "Construir um modelo preditivo, baseado em classificação, capaz de distinguir entre conexões \"ruins\", que são os ataques, das conexões \"boas\" ou normais.\n",
    "\n",
    "## Dataset:\n",
    "\n",
    "O dataset foi preparado pelo MIT Lincoln Labs através de intrusões simuladas em um ambiente de rede militar, em 1998, e possui as seguintes características:\n",
    "colunas = 42\n",
    "Linhas = 4.898.429\n",
    "\n",
    "## Ataques:\n",
    "\n",
    "Os ataques se enquadram em quatro categorias principais:\n",
    "\n",
    "- DOS: negação de serviço, por exemplo inundação de syn (syn flood);\n",
    "- R2L: acesso não autorizado de uma máquina remota, por ex. adivinhando a senha;\n",
    "- U2R: acesso não autorizado a privilégios de superusuário (root) local, por exemplo, vários ataques de \"buffer overflow\";\n",
    "- Sondagem (Probing): vigilância e outra sondagem, por exemplo, varredura de porta.\n",
    "\n",
    "## Descrição das Features: (obs: das 42 features, somente 31 são descritas abaixo. Segundo os autores, são features definidas para os registros de conexão:\n",
    "\n",
    "#### Recursos básicos de conexões TCP individuais:\n",
    "\n",
    "duration = comprimento (número de segundos) da conexão\n",
    "\n",
    "protocol_type = tipo de protocolo, por ex. tcp, udp, etc.\n",
    "\n",
    "service = serviço de rede no destino, por exemplo, http, telnet, etc.\n",
    "\n",
    "src_bytes = número de bytes de dados da origem ao destino\n",
    "\n",
    "dst_bytes = número de bytes de dados do destino à origem\n",
    "\n",
    "flag = status normal ou de erro da conexão\n",
    "\n",
    "land = 1 se a conexão for de/para o mesmo host/porta; 0 caso contrário\n",
    "\n",
    "wrong_fragment = número de fragmentos \"errados\"\n",
    "\n",
    "urgent = número de pacotes urgentes\n",
    "\n",
    "#### Recursos de conteúdo em uma conexão sugerida pelo conhecimento do domínio:\n",
    "\n",
    "hot = número de indicadores \"quentes\"\n",
    "\n",
    "num_failed_logins = número de tentativas de login malsucedidas\n",
    "\n",
    "logged_in = 1 se logado com sucesso; 0 caso contrário\n",
    "\n",
    "num_compromised = número de condições \"comprometidas\"\n",
    "\n",
    "root_shell = 1 se for obtido root shell; 0 caso contrário\n",
    "\n",
    "su_attempted = 1 se o comando \"su root\" foi tentado; 0 caso contrário\n",
    "\n",
    "num_root = número de acessos \"root\"\n",
    "\n",
    "num_file_creations = número de operações de criação de arquivo\n",
    "\n",
    "num_shells = número de prompts de shell\n",
    "\n",
    "num_access_files = número de operações em arquivos de controle de acesso\n",
    "\n",
    "num_outbound_cmds = número de comandos de saída em uma sessão ftp\n",
    "\n",
    "is_hot_login = 1 se o login pertence à lista \"hot\"; 0 caso contrário\n",
    "\n",
    "is_guest_login = 1 se o login for um \"guest\" login; 0 caso contrário\n",
    "\n",
    "#### Recursos de tráfego calculados usando uma janela de tempo de dois segundos:\n",
    "\n",
    "count = número de conexões com o mesmo host que a conexão atual nos últimos dois segundos\n",
    "\n",
    "Observação: os recursos a seguir referem-se a essas conexões do mesmo host.\n",
    "\n",
    "serror_rate = % de conexões que têm erros \"SYN\"\n",
    "\n",
    "rerror_rate  = % de conexões que têm erros \"REJ\"\n",
    "\n",
    "same_srv_rate = % de conexões para o mesmo serviço\n",
    "\n",
    "diff_srv_rate = % de conexões para serviços diferentes\n",
    "\n",
    "srv_count = número de conexões para o mesmo serviço que a conexão atual nos últimos dois segundos\n",
    "\n",
    "Observação: os recursos a seguir referem-se a essas conexões do mesmo serviço.\n",
    "\n",
    "srv_serror_rate = % de conexões que têm erros \"SYN\"\n",
    "\n",
    "srv_rerror_rate = % de conexões que têm erros \"REJ\"\n",
    "\n",
    "srv_diff_host_rate = % de conexões para diferentes hosts\n",
    "\n",
    "#### Abaixo seguem as features sem descrição#\n",
    "\n",
    "dst_host_count: continuous.\n",
    "\n",
    "dst_host_srv_count: continuous.\n",
    "\n",
    "dst_host_same_srv_rate: continuous.\n",
    "\n",
    "dst_host_diff_srv_rate: continuous.\n",
    "\n",
    "dst_host_same_src_port_rate: continuous.\n",
    "\n",
    "dst_host_srv_diff_host_rate: continuous.\n",
    "\n",
    "dst_host_serror_rate: continuous.\n",
    "\n",
    "dst_host_srv_serror_rate: continuous.\n",
    "\n",
    "dst_host_rerror_rate: continuous.\n",
    "\n",
    "dst_host_srv_rerror_rate: continuous."
   ]
  },
  {
   "cell_type": "markdown",
   "metadata": {
    "id": "vvqnXOoeHR_i",
    "jp-MarkdownHeadingCollapsed": true,
    "tags": []
   },
   "source": [
    "# Montando o Drive:"
   ]
  },
  {
   "cell_type": "code",
   "execution_count": null,
   "metadata": {
    "colab": {
     "base_uri": "https://localhost:8080/"
    },
    "executionInfo": {
     "elapsed": 1502,
     "status": "ok",
     "timestamp": 1638449433270,
     "user": {
      "displayName": "José Barata",
      "photoUrl": "https://lh3.googleusercontent.com/a-/AOh14GgEUMkNgm6N5nU2cJLghgqBZhrjjmLXlyc7lF9B=s64",
      "userId": "12962950916096112455"
     },
     "user_tz": 180
    },
    "id": "ETw0BiD_pb6s",
    "outputId": "f42a498e-ab59-44bd-fbab-6f57c0b86cc5"
   },
   "outputs": [],
   "source": [
    "from google.colab import drive\n",
    "drive.mount('/content/drive', force_remount=True)"
   ]
  },
  {
   "cell_type": "markdown",
   "metadata": {
    "id": "QLFxG-urHkX6"
   },
   "source": [
    "# Importando as bibliotecas:"
   ]
  },
  {
   "cell_type": "code",
   "execution_count": 1,
   "metadata": {
    "executionInfo": {
     "elapsed": 1770,
     "status": "ok",
     "timestamp": 1638449437665,
     "user": {
      "displayName": "José Barata",
      "photoUrl": "https://lh3.googleusercontent.com/a-/AOh14GgEUMkNgm6N5nU2cJLghgqBZhrjjmLXlyc7lF9B=s64",
      "userId": "12962950916096112455"
     },
     "user_tz": 180
    },
    "id": "hcOADV81Ukn-"
   },
   "outputs": [],
   "source": [
    "import pandas as pd\n",
    "import numpy as np\n",
    "import seaborn as sns\n",
    "import matplotlib.pyplot as plt\n",
    "from sklearn import preprocessing\n",
    "from sklearn.preprocessing import LabelEncoder\n",
    "from sklearn.preprocessing import StandardScaler\n",
    "from sklearn.ensemble import GradientBoostingClassifier\n",
    "from sklearn.model_selection import train_test_split\n",
    "from sklearn.metrics import accuracy_score, confusion_matrix, f1_score, roc_auc_score, average_precision_score, roc_curve\n",
    "from collections import Counter\n",
    "\n",
    "import warnings\n",
    "warnings.filterwarnings(\"ignore\")"
   ]
  },
  {
   "cell_type": "markdown",
   "metadata": {
    "id": "BZH1T1HDUkoC",
    "jp-MarkdownHeadingCollapsed": true,
    "tags": []
   },
   "source": [
    "# Manipulando o dataset original do KDD Cup 1999:"
   ]
  },
  {
   "cell_type": "markdown",
   "metadata": {
    "id": "2xhNoZk7UkoD"
   },
   "source": [
    "## Adicionando as colunas no dataset e salvando um novo dataset"
   ]
  },
  {
   "cell_type": "code",
   "execution_count": null,
   "metadata": {
    "id": "StZji-TmUkoE"
   },
   "outputs": [],
   "source": [
    "df = pd.read_csv(\"kddcup.data\")"
   ]
  },
  {
   "cell_type": "code",
   "execution_count": null,
   "metadata": {
    "id": "bmR6tBhqUkoG"
   },
   "outputs": [],
   "source": [
    "headers = [\"duration\",\"protocol_type\",\"service\",\"flag\",\"src_bytes\",\"dst_bytes\",\"land\",\"wrong_fragment\",\"urgent\",\"hot\",\"num_failed_logins\",\"logged_in\",\n",
    "\"num_compromised\",\"root_shell\",\"su_attempted\",\"num_root\",\"num_file_creations\",\"num_shells\",\"num_access_files\",\"num_outbound_cmds\",\"is_host_login\",\"is_guest_login\",\"count\",\"srv_count\",\"serror_rate\", \"srv_serror_rate\",\n",
    "\"rerror_rate\",\"srv_rerror_rate\",\"same_srv_rate\", \"diff_srv_rate\", \"srv_diff_host_rate\",\"dst_host_count\",\"dst_host_srv_count\",\"dst_host_same_srv_rate\",\"dst_host_diff_srv_rate\",\"dst_host_same_src_port_rate\",\n",
    "\"dst_host_srv_diff_host_rate\",\"dst_host_serror_rate\",\"dst_host_srv_serror_rate\",\"dst_host_rerror_rate\",\"dst_host_srv_rerror_rate\",\"attack\"]"
   ]
  },
  {
   "cell_type": "code",
   "execution_count": null,
   "metadata": {
    "id": "E1xqucBvUkoH"
   },
   "outputs": [],
   "source": [
    "df.columns = headers"
   ]
  },
  {
   "cell_type": "code",
   "execution_count": null,
   "metadata": {
    "id": "JAlieC8YUkoI"
   },
   "outputs": [],
   "source": [
    "df.head(5)"
   ]
  },
  {
   "cell_type": "markdown",
   "metadata": {
    "id": "QnRJ7eQDUkoJ"
   },
   "source": [
    "### Salvando o novo dataset com as colunas:"
   ]
  },
  {
   "cell_type": "code",
   "execution_count": null,
   "metadata": {
    "id": "1c28sg4vUkoK"
   },
   "outputs": [],
   "source": [
    "file = \"kddcup_data.csv\"\n",
    "df.to_csv(file, index=False)"
   ]
  },
  {
   "cell_type": "markdown",
   "metadata": {
    "id": "A2TJq8sYUkoK",
    "jp-MarkdownHeadingCollapsed": true,
    "tags": []
   },
   "source": [
    "# Trabalhando com o novo dataset (com as features):"
   ]
  },
  {
   "cell_type": "markdown",
   "metadata": {
    "id": "bvY9UbDRhAgw"
   },
   "source": [
    "## Lendo o dataset:"
   ]
  },
  {
   "cell_type": "code",
   "execution_count": null,
   "metadata": {
    "id": "4huxNPgkUkoM"
   },
   "outputs": [],
   "source": [
    "#df = pd.read_csv(\"/content/drive/MyDrive/Data_Science/ml_anomaly_detection/kddcup_data.csv\")\n",
    "df = pd.read_csv(\"kddcup_data.csv\")"
   ]
  },
  {
   "cell_type": "markdown",
   "metadata": {
    "id": "9PX64YiUhLX4"
   },
   "source": [
    "## Overview dos dados e features:"
   ]
  },
  {
   "cell_type": "code",
   "execution_count": null,
   "metadata": {
    "id": "FTzx85tzff4f"
   },
   "outputs": [],
   "source": [
    "pd.set_option(\"max_columns\", None)\n",
    "overview = df\n",
    "overview"
   ]
  },
  {
   "cell_type": "markdown",
   "metadata": {
    "id": "NPa9nKdKhoVl"
   },
   "source": [
    "## Verificando se há algum feature com valor zero ou vazio (False):"
   ]
  },
  {
   "cell_type": "code",
   "execution_count": null,
   "metadata": {
    "id": "ZEgJhpyOeh8H"
   },
   "outputs": [],
   "source": [
    "df.any()"
   ]
  },
  {
   "cell_type": "markdown",
   "metadata": {
    "id": "86QKJGB0UkoP"
   },
   "source": [
    "## Checando os tipos de dados (data types):"
   ]
  },
  {
   "cell_type": "code",
   "execution_count": null,
   "metadata": {
    "id": "iWCQ8OmgUkoQ"
   },
   "outputs": [],
   "source": [
    "df.dtypes"
   ]
  },
  {
   "cell_type": "markdown",
   "metadata": {
    "id": "-m5YrH9iUkoQ"
   },
   "source": [
    "## Método que retorna um sumário estatístico (statistical summary) onde exibe somente as colunas que possuem números:"
   ]
  },
  {
   "cell_type": "code",
   "execution_count": null,
   "metadata": {
    "id": "wHU9uholUkoQ"
   },
   "outputs": [],
   "source": [
    "df.describe()"
   ]
  },
  {
   "cell_type": "markdown",
   "metadata": {
    "id": "oQ67ZsWvUkoR"
   },
   "source": [
    "## Método que retorna um sumário estatístico completo:\n",
    "### Unique = número de objetos distintos na coluna\n",
    "### Top = é o objeto mais frequente\n",
    "### freq = é o número de vezes que o objeto superior aparece na coluna"
   ]
  },
  {
   "cell_type": "code",
   "execution_count": null,
   "metadata": {
    "id": "2lNF2LPVUkoS"
   },
   "outputs": [],
   "source": [
    "df.describe(include='all')"
   ]
  },
  {
   "cell_type": "markdown",
   "metadata": {
    "id": "ZEAVK8RLUkoS"
   },
   "source": [
    "## Método que verifica o conjunto de dados"
   ]
  },
  {
   "cell_type": "code",
   "execution_count": null,
   "metadata": {
    "id": "ni1rJzKuUkoS"
   },
   "outputs": [],
   "source": [
    "df.info"
   ]
  },
  {
   "cell_type": "markdown",
   "metadata": {
    "id": "qGsMpTkMUkoS"
   },
   "source": [
    "## Listando as features não-numéricas:"
   ]
  },
  {
   "cell_type": "code",
   "execution_count": null,
   "metadata": {
    "id": "2oMKSDESUkoZ"
   },
   "outputs": [],
   "source": [
    "df.select_dtypes(exclude=[np.number])"
   ]
  },
  {
   "cell_type": "markdown",
   "metadata": {
    "id": "yuo3EvITUkoa"
   },
   "source": [
    "## Listando os tipos de ataques, protocolos, serviços e flags:"
   ]
  },
  {
   "cell_type": "code",
   "execution_count": null,
   "metadata": {
    "id": "bPXF2ePPUkoa"
   },
   "outputs": [],
   "source": [
    "types_of_attacks = df['attack'].value_counts().to_frame()\n",
    "types_of_attacks.head(23)"
   ]
  },
  {
   "cell_type": "code",
   "execution_count": null,
   "metadata": {
    "id": "VTJTiCZ_Ukob"
   },
   "outputs": [],
   "source": [
    "types_of_protocols = df['protocol_type'].value_counts().to_frame()\n",
    "types_of_protocols.head()"
   ]
  },
  {
   "cell_type": "code",
   "execution_count": null,
   "metadata": {
    "id": "rNlQyxBcUkob"
   },
   "outputs": [],
   "source": [
    "types_of_services = df['service'].value_counts().to_frame()\n",
    "types_of_services.head()"
   ]
  },
  {
   "cell_type": "code",
   "execution_count": null,
   "metadata": {
    "id": "fQXqoOQ_Ukoc"
   },
   "outputs": [],
   "source": [
    "types_of_flags = df['flag'].value_counts().to_frame()\n",
    "types_of_flags.head()"
   ]
  },
  {
   "cell_type": "markdown",
   "metadata": {
    "id": "5gXzmYU-Ukoc"
   },
   "source": [
    "## Scatterplot"
   ]
  },
  {
   "cell_type": "markdown",
   "metadata": {
    "id": "ysGpm4H-Ukod"
   },
   "source": [
    "### Obs: A visualização não ficou boa por causa da grande quantidade de tipos de ataques"
   ]
  },
  {
   "cell_type": "code",
   "execution_count": null,
   "metadata": {
    "id": "iMdO4dSCUkod"
   },
   "outputs": [],
   "source": [
    "y=df['duration']\n",
    "x=df['attack']\n",
    "plt.scatter(x,y)\n",
    "\n",
    "plt.title('Scatterplot Attack vs Duration')\n",
    "plt.xlabel('Attack')\n",
    "plt.ylabel('Duration')"
   ]
  },
  {
   "cell_type": "markdown",
   "metadata": {
    "id": "Omhs0lA-Ukoe"
   },
   "source": [
    "## Verificando se existem células N/A e null no dataset:"
   ]
  },
  {
   "cell_type": "code",
   "execution_count": null,
   "metadata": {
    "id": "hIRAmwVmUkoe"
   },
   "outputs": [],
   "source": [
    "df.isna().sum()"
   ]
  },
  {
   "cell_type": "code",
   "execution_count": null,
   "metadata": {
    "id": "0IUim5TRUkof"
   },
   "outputs": [],
   "source": [
    "df.isnull().sum()"
   ]
  },
  {
   "cell_type": "markdown",
   "metadata": {
    "id": "eWIQEnLVUkof"
   },
   "source": [
    "## Iniciando o tratamento dos dados:"
   ]
  },
  {
   "cell_type": "markdown",
   "metadata": {
    "id": "yDHMJC9aUkof"
   },
   "source": [
    "### Convertendo a feature \"attack\", que possui 23 tipos, para binomial, ou seja, a feature \"attack\" só terá dois tipos: \"normal\" e \"attack\""
   ]
  },
  {
   "cell_type": "code",
   "execution_count": null,
   "metadata": {
    "id": "Uncx0sCvUkof"
   },
   "outputs": [],
   "source": [
    "df[\"attack\"].loc[df[\"attack\"] != \"normal.\"] = \"attack.\""
   ]
  },
  {
   "cell_type": "markdown",
   "metadata": {
    "id": "MqJxzWqaUnCZ"
   },
   "source": [
    "### Dados \"attack\" e \"normal\""
   ]
  },
  {
   "cell_type": "code",
   "execution_count": null,
   "metadata": {
    "id": "NA3QiULnUkoi"
   },
   "outputs": [],
   "source": [
    "sns.countplot(x='attack', data=df)"
   ]
  },
  {
   "cell_type": "markdown",
   "metadata": {
    "id": "I477nX9cV6X1"
   },
   "source": [
    "### Distribuição da feature 'attack'"
   ]
  },
  {
   "cell_type": "code",
   "execution_count": null,
   "metadata": {
    "id": "E1Haq7nyUkoi"
   },
   "outputs": [],
   "source": [
    "print(\"distribuição da feature 'attack': {}\".format(Counter(df[\"attack\"])))"
   ]
  },
  {
   "cell_type": "markdown",
   "metadata": {
    "id": "SuQO_uAOT3Gv"
   },
   "source": [
    "### Proporção attack vs normal"
   ]
  },
  {
   "cell_type": "code",
   "execution_count": null,
   "metadata": {
    "id": "siFmM4y9UIxm"
   },
   "outputs": [],
   "source": [
    "df.attack.value_counts(normalize=True).mul(100).round(1).astype(str) + '%'"
   ]
  },
  {
   "cell_type": "markdown",
   "metadata": {
    "id": "EdnnDL9QUkog"
   },
   "source": [
    "### Usando a classe LabelEncoder para converter as features não-numéricas para numéricas (\"protocol_type\", \"service\", \"flag\" e \"attack\")"
   ]
  },
  {
   "cell_type": "code",
   "execution_count": null,
   "metadata": {
    "id": "PjpCOvRAUkog"
   },
   "outputs": [],
   "source": [
    "le = LabelEncoder()"
   ]
  },
  {
   "cell_type": "code",
   "execution_count": null,
   "metadata": {
    "id": "oQ-gdgyIUkog"
   },
   "outputs": [],
   "source": [
    "df[\"protocol_type\"] = le.fit_transform(df[\"protocol_type\"])\n",
    "df[\"service\"] = le.fit_transform(df[\"service\"])\n",
    "df[\"flag\"] = le.fit_transform(df[\"flag\"])\n",
    "df[\"attack\"] = le.fit_transform(df[\"attack\"])"
   ]
  },
  {
   "cell_type": "code",
   "execution_count": null,
   "metadata": {
    "id": "NwwtFy-lUkog"
   },
   "outputs": [],
   "source": [
    "df.head(5)"
   ]
  },
  {
   "cell_type": "markdown",
   "metadata": {
    "id": "B3S8CEFCUkoh"
   },
   "source": [
    "### Exibindo os coeficientes de correlação entre as variáveis:"
   ]
  },
  {
   "cell_type": "code",
   "execution_count": null,
   "metadata": {
    "id": "KjmF3zIXUkoh"
   },
   "outputs": [],
   "source": [
    "df.corr()"
   ]
  },
  {
   "cell_type": "markdown",
   "metadata": {
    "id": "xDi2fftNUkoh"
   },
   "source": [
    "### Excluindo a feature \"num_outbound_cmds\" que está com valor NaN:"
   ]
  },
  {
   "cell_type": "code",
   "execution_count": null,
   "metadata": {
    "id": "Zios0bKWUkoi"
   },
   "outputs": [],
   "source": [
    "df.drop([\"num_outbound_cmds\"], axis=1, inplace=True)"
   ]
  },
  {
   "cell_type": "markdown",
   "metadata": {
    "id": "n1GeSphTedOs"
   },
   "source": [
    "### Salvando o novo dataset sem a feature \"num_outbound_cmds\":"
   ]
  },
  {
   "cell_type": "code",
   "execution_count": null,
   "metadata": {
    "id": "7_UlH5toesD4"
   },
   "outputs": [],
   "source": [
    "file = \"/content/drive/MyDrive/Data_Science/ml_anomaly_detection/new_kddcup_data.csv\"\n",
    "df.to_csv(file, index=False)"
   ]
  },
  {
   "cell_type": "markdown",
   "metadata": {
    "id": "95Oov62qgHl2"
   },
   "source": [
    "# Manipulando o dataset \"new_kddcup_data.csv\":"
   ]
  },
  {
   "cell_type": "code",
   "execution_count": 2,
   "metadata": {
    "colab": {
     "base_uri": "https://localhost:8080/",
     "height": 224
    },
    "executionInfo": {
     "elapsed": 14649,
     "status": "ok",
     "timestamp": 1638449456795,
     "user": {
      "displayName": "José Barata",
      "photoUrl": "https://lh3.googleusercontent.com/a-/AOh14GgEUMkNgm6N5nU2cJLghgqBZhrjjmLXlyc7lF9B=s64",
      "userId": "12962950916096112455"
     },
     "user_tz": 180
    },
    "id": "GG7JDqoHgNRK",
    "outputId": "19abd8bf-46da-4825-cdcf-adf762ea85a3"
   },
   "outputs": [
    {
     "data": {
      "text/html": [
       "<div>\n",
       "<style scoped>\n",
       "    .dataframe tbody tr th:only-of-type {\n",
       "        vertical-align: middle;\n",
       "    }\n",
       "\n",
       "    .dataframe tbody tr th {\n",
       "        vertical-align: top;\n",
       "    }\n",
       "\n",
       "    .dataframe thead th {\n",
       "        text-align: right;\n",
       "    }\n",
       "</style>\n",
       "<table border=\"1\" class=\"dataframe\">\n",
       "  <thead>\n",
       "    <tr style=\"text-align: right;\">\n",
       "      <th></th>\n",
       "      <th>duration</th>\n",
       "      <th>protocol_type</th>\n",
       "      <th>service</th>\n",
       "      <th>flag</th>\n",
       "      <th>src_bytes</th>\n",
       "      <th>dst_bytes</th>\n",
       "      <th>land</th>\n",
       "      <th>wrong_fragment</th>\n",
       "      <th>urgent</th>\n",
       "      <th>hot</th>\n",
       "      <th>...</th>\n",
       "      <th>dst_host_srv_count</th>\n",
       "      <th>dst_host_same_srv_rate</th>\n",
       "      <th>dst_host_diff_srv_rate</th>\n",
       "      <th>dst_host_same_src_port_rate</th>\n",
       "      <th>dst_host_srv_diff_host_rate</th>\n",
       "      <th>dst_host_serror_rate</th>\n",
       "      <th>dst_host_srv_serror_rate</th>\n",
       "      <th>dst_host_rerror_rate</th>\n",
       "      <th>dst_host_srv_rerror_rate</th>\n",
       "      <th>attack</th>\n",
       "    </tr>\n",
       "  </thead>\n",
       "  <tbody>\n",
       "    <tr>\n",
       "      <th>0</th>\n",
       "      <td>0</td>\n",
       "      <td>1</td>\n",
       "      <td>24</td>\n",
       "      <td>9</td>\n",
       "      <td>162</td>\n",
       "      <td>4528</td>\n",
       "      <td>0</td>\n",
       "      <td>0</td>\n",
       "      <td>0</td>\n",
       "      <td>0</td>\n",
       "      <td>...</td>\n",
       "      <td>1</td>\n",
       "      <td>1.0</td>\n",
       "      <td>0.0</td>\n",
       "      <td>1.00</td>\n",
       "      <td>0.0</td>\n",
       "      <td>0.0</td>\n",
       "      <td>0.0</td>\n",
       "      <td>0.0</td>\n",
       "      <td>0.0</td>\n",
       "      <td>1</td>\n",
       "    </tr>\n",
       "    <tr>\n",
       "      <th>1</th>\n",
       "      <td>0</td>\n",
       "      <td>1</td>\n",
       "      <td>24</td>\n",
       "      <td>9</td>\n",
       "      <td>236</td>\n",
       "      <td>1228</td>\n",
       "      <td>0</td>\n",
       "      <td>0</td>\n",
       "      <td>0</td>\n",
       "      <td>0</td>\n",
       "      <td>...</td>\n",
       "      <td>2</td>\n",
       "      <td>1.0</td>\n",
       "      <td>0.0</td>\n",
       "      <td>0.50</td>\n",
       "      <td>0.0</td>\n",
       "      <td>0.0</td>\n",
       "      <td>0.0</td>\n",
       "      <td>0.0</td>\n",
       "      <td>0.0</td>\n",
       "      <td>1</td>\n",
       "    </tr>\n",
       "    <tr>\n",
       "      <th>2</th>\n",
       "      <td>0</td>\n",
       "      <td>1</td>\n",
       "      <td>24</td>\n",
       "      <td>9</td>\n",
       "      <td>233</td>\n",
       "      <td>2032</td>\n",
       "      <td>0</td>\n",
       "      <td>0</td>\n",
       "      <td>0</td>\n",
       "      <td>0</td>\n",
       "      <td>...</td>\n",
       "      <td>3</td>\n",
       "      <td>1.0</td>\n",
       "      <td>0.0</td>\n",
       "      <td>0.33</td>\n",
       "      <td>0.0</td>\n",
       "      <td>0.0</td>\n",
       "      <td>0.0</td>\n",
       "      <td>0.0</td>\n",
       "      <td>0.0</td>\n",
       "      <td>1</td>\n",
       "    </tr>\n",
       "    <tr>\n",
       "      <th>3</th>\n",
       "      <td>0</td>\n",
       "      <td>1</td>\n",
       "      <td>24</td>\n",
       "      <td>9</td>\n",
       "      <td>239</td>\n",
       "      <td>486</td>\n",
       "      <td>0</td>\n",
       "      <td>0</td>\n",
       "      <td>0</td>\n",
       "      <td>0</td>\n",
       "      <td>...</td>\n",
       "      <td>4</td>\n",
       "      <td>1.0</td>\n",
       "      <td>0.0</td>\n",
       "      <td>0.25</td>\n",
       "      <td>0.0</td>\n",
       "      <td>0.0</td>\n",
       "      <td>0.0</td>\n",
       "      <td>0.0</td>\n",
       "      <td>0.0</td>\n",
       "      <td>1</td>\n",
       "    </tr>\n",
       "    <tr>\n",
       "      <th>4</th>\n",
       "      <td>0</td>\n",
       "      <td>1</td>\n",
       "      <td>24</td>\n",
       "      <td>9</td>\n",
       "      <td>238</td>\n",
       "      <td>1282</td>\n",
       "      <td>0</td>\n",
       "      <td>0</td>\n",
       "      <td>0</td>\n",
       "      <td>0</td>\n",
       "      <td>...</td>\n",
       "      <td>5</td>\n",
       "      <td>1.0</td>\n",
       "      <td>0.0</td>\n",
       "      <td>0.20</td>\n",
       "      <td>0.0</td>\n",
       "      <td>0.0</td>\n",
       "      <td>0.0</td>\n",
       "      <td>0.0</td>\n",
       "      <td>0.0</td>\n",
       "      <td>1</td>\n",
       "    </tr>\n",
       "  </tbody>\n",
       "</table>\n",
       "<p>5 rows × 41 columns</p>\n",
       "</div>"
      ],
      "text/plain": [
       "   duration  protocol_type  service  flag  src_bytes  dst_bytes  land  \\\n",
       "0         0              1       24     9        162       4528     0   \n",
       "1         0              1       24     9        236       1228     0   \n",
       "2         0              1       24     9        233       2032     0   \n",
       "3         0              1       24     9        239        486     0   \n",
       "4         0              1       24     9        238       1282     0   \n",
       "\n",
       "   wrong_fragment  urgent  hot  ...  dst_host_srv_count  \\\n",
       "0               0       0    0  ...                   1   \n",
       "1               0       0    0  ...                   2   \n",
       "2               0       0    0  ...                   3   \n",
       "3               0       0    0  ...                   4   \n",
       "4               0       0    0  ...                   5   \n",
       "\n",
       "   dst_host_same_srv_rate  dst_host_diff_srv_rate  \\\n",
       "0                     1.0                     0.0   \n",
       "1                     1.0                     0.0   \n",
       "2                     1.0                     0.0   \n",
       "3                     1.0                     0.0   \n",
       "4                     1.0                     0.0   \n",
       "\n",
       "   dst_host_same_src_port_rate  dst_host_srv_diff_host_rate  \\\n",
       "0                         1.00                          0.0   \n",
       "1                         0.50                          0.0   \n",
       "2                         0.33                          0.0   \n",
       "3                         0.25                          0.0   \n",
       "4                         0.20                          0.0   \n",
       "\n",
       "   dst_host_serror_rate  dst_host_srv_serror_rate  dst_host_rerror_rate  \\\n",
       "0                   0.0                       0.0                   0.0   \n",
       "1                   0.0                       0.0                   0.0   \n",
       "2                   0.0                       0.0                   0.0   \n",
       "3                   0.0                       0.0                   0.0   \n",
       "4                   0.0                       0.0                   0.0   \n",
       "\n",
       "   dst_host_srv_rerror_rate  attack  \n",
       "0                       0.0       1  \n",
       "1                       0.0       1  \n",
       "2                       0.0       1  \n",
       "3                       0.0       1  \n",
       "4                       0.0       1  \n",
       "\n",
       "[5 rows x 41 columns]"
      ]
     },
     "execution_count": 2,
     "metadata": {},
     "output_type": "execute_result"
    }
   ],
   "source": [
    "#df = pd.read_csv(\"/content/drive/MyDrive/Data_Science/ml_anomaly_detection/new_kddcup_data.csv\")\n",
    "df = pd.read_csv(\"new_kddcup_data.csv\")\n",
    "df.head(5)"
   ]
  },
  {
   "cell_type": "markdown",
   "metadata": {
    "id": "28DIU8BvZePY"
   },
   "source": [
    "## Verificando se os dados estão balanceados:"
   ]
  },
  {
   "cell_type": "code",
   "execution_count": 3,
   "metadata": {
    "colab": {
     "base_uri": "https://localhost:8080/",
     "height": 346
    },
    "executionInfo": {
     "elapsed": 492,
     "status": "ok",
     "timestamp": 1638449462524,
     "user": {
      "displayName": "José Barata",
      "photoUrl": "https://lh3.googleusercontent.com/a-/AOh14GgEUMkNgm6N5nU2cJLghgqBZhrjjmLXlyc7lF9B=s64",
      "userId": "12962950916096112455"
     },
     "user_tz": 180
    },
    "id": "qhNUrIjvZePZ",
    "outputId": "1209c867-6dd9-45cb-8cfb-968eff987161"
   },
   "outputs": [
    {
     "name": "stdout",
     "output_type": "stream",
     "text": [
      "Class 0: 3925650\n",
      "Class 1: 972780\n",
      "Proportion: 4.04 : 1\n"
     ]
    },
    {
     "data": {
      "text/plain": [
       "<AxesSubplot:title={'center':'Count (attack)'}>"
      ]
     },
     "execution_count": 3,
     "metadata": {},
     "output_type": "execute_result"
    },
    {
     "data": {
      "image/png": "[encoded data removed]",
      "text/plain": [
       "<Figure size 432x288 with 1 Axes>"
      ]
     },
     "metadata": {
      "needs_background": "light"
     },
     "output_type": "display_data"
    }
   ],
   "source": [
    "attack_count = df.attack.value_counts()\n",
    "print('Class 0:', attack_count[0])\n",
    "print('Class 1:', attack_count[1])\n",
    "print('Proportion:', round(attack_count[0] / attack_count[1], 2), ': 1')\n",
    "attack_count.plot(kind='bar', title='Count (attack)',color = ['#1F77B4', '#FF7F0E'])"
   ]
  },
  {
   "cell_type": "markdown",
   "metadata": {
    "id": "xXrOrYQIMxAb",
    "jp-MarkdownHeadingCollapsed": true,
    "tags": []
   },
   "source": [
    "## Plotando um Heatmap com as correlações entre as 41 features. As cores mais escuras simbolizam as features mais se correlacionam:"
   ]
  },
  {
   "cell_type": "code",
   "execution_count": null,
   "metadata": {
    "colab": {
     "base_uri": "https://localhost:8080/",
     "height": 1000
    },
    "id": "pQzAunY1Ukoi",
    "outputId": "18af5668-fb14-4420-898d-49f4779c86ef"
   },
   "outputs": [],
   "source": [
    "plt.figure(figsize=(30,25))\n",
    "sns.heatmap(df.corr(), annot=True, cmap='RdYlGn', linewidths=0.2)"
   ]
  },
  {
   "cell_type": "markdown",
   "metadata": {
    "id": "D1tscgUTmwB5",
    "tags": []
   },
   "source": [
    "# Testando a Precisão com os dados desbalanceados usando o Classificador Gradient Boosting:"
   ]
  },
  {
   "cell_type": "markdown",
   "metadata": {
    "id": "_JA6lHeIZePa",
    "tags": []
   },
   "source": [
    "## Dividindo os dados em Treinamento e Teste:"
   ]
  },
  {
   "cell_type": "code",
   "execution_count": 17,
   "metadata": {
    "executionInfo": {
     "elapsed": 4773,
     "status": "ok",
     "timestamp": 1638382634505,
     "user": {
      "displayName": "José Barata",
      "photoUrl": "https://lh3.googleusercontent.com/a-/AOh14GgEUMkNgm6N5nU2cJLghgqBZhrjjmLXlyc7lF9B=s64",
      "userId": "12962950916096112455"
     },
     "user_tz": 180
    },
    "id": "ezh_4h3SZePa"
   },
   "outputs": [
    {
     "name": "stdout",
     "output_type": "stream",
     "text": [
      "X_train:\n",
      "         duration  protocol_type  service  flag  src_bytes  dst_bytes  land  \\\n",
      "4022438         0              0       15     9        520          0     0   \n",
      "1093648         0              1       49     5          0          0     0   \n",
      "4195845         0              0       15     9        520          0     0   \n",
      "4185494         0              0       15     9        520          0     0   \n",
      "4215401         0              0       15     9        520          0     0   \n",
      "...           ...            ...      ...   ...        ...        ...   ...   \n",
      "1554661         0              0       15     9       1032          0     0   \n",
      "2418654         0              0       15     9       1032          0     0   \n",
      "677997          0              1       49     5          0          0     0   \n",
      "1152480         0              1       49     5          0          0     0   \n",
      "1980080         0              0       15     9       1032          0     0   \n",
      "\n",
      "         wrong_fragment  urgent  hot  ...  dst_host_count  dst_host_srv_count  \\\n",
      "4022438               0       0    0  ...             255                 255   \n",
      "1093648               0       0    0  ...             255                  17   \n",
      "4195845               0       0    0  ...             255                 255   \n",
      "4185494               0       0    0  ...             255                 255   \n",
      "4215401               0       0    0  ...             255                 255   \n",
      "...                 ...     ...  ...  ...             ...                 ...   \n",
      "1554661               0       0    0  ...             255                 255   \n",
      "2418654               0       0    0  ...             255                 255   \n",
      "677997                0       0    0  ...             255                  19   \n",
      "1152480               0       0    0  ...             255                  10   \n",
      "1980080               0       0    0  ...             255                 255   \n",
      "\n",
      "         dst_host_same_srv_rate  dst_host_diff_srv_rate  \\\n",
      "4022438                    1.00                    0.00   \n",
      "1093648                    0.07                    0.07   \n",
      "4195845                    1.00                    0.00   \n",
      "4185494                    1.00                    0.00   \n",
      "4215401                    1.00                    0.00   \n",
      "...                         ...                     ...   \n",
      "1554661                    1.00                    0.00   \n",
      "2418654                    1.00                    0.00   \n",
      "677997                     0.07                    0.06   \n",
      "1152480                    0.04                    0.06   \n",
      "1980080                    1.00                    0.00   \n",
      "\n",
      "         dst_host_same_src_port_rate  dst_host_srv_diff_host_rate  \\\n",
      "4022438                          1.0                          0.0   \n",
      "1093648                          0.0                          0.0   \n",
      "4195845                          1.0                          0.0   \n",
      "4185494                          1.0                          0.0   \n",
      "4215401                          1.0                          0.0   \n",
      "...                              ...                          ...   \n",
      "1554661                          1.0                          0.0   \n",
      "2418654                          1.0                          0.0   \n",
      "677997                           0.0                          0.0   \n",
      "1152480                          0.0                          0.0   \n",
      "1980080                          1.0                          0.0   \n",
      "\n",
      "         dst_host_serror_rate  dst_host_srv_serror_rate  dst_host_rerror_rate  \\\n",
      "4022438                   0.0                       0.0                   0.0   \n",
      "1093648                   1.0                       1.0                   0.0   \n",
      "4195845                   0.0                       0.0                   0.0   \n",
      "4185494                   0.0                       0.0                   0.0   \n",
      "4215401                   0.0                       0.0                   0.0   \n",
      "...                       ...                       ...                   ...   \n",
      "1554661                   0.0                       0.0                   0.0   \n",
      "2418654                   0.0                       0.0                   0.0   \n",
      "677997                    1.0                       1.0                   0.0   \n",
      "1152480                   1.0                       1.0                   0.0   \n",
      "1980080                   0.0                       0.0                   0.0   \n",
      "\n",
      "         dst_host_srv_rerror_rate  \n",
      "4022438                       0.0  \n",
      "1093648                       0.0  \n",
      "4195845                       0.0  \n",
      "4185494                       0.0  \n",
      "4215401                       0.0  \n",
      "...                           ...  \n",
      "1554661                       0.0  \n",
      "2418654                       0.0  \n",
      "677997                        0.0  \n",
      "1152480                       0.0  \n",
      "1980080                       0.0  \n",
      "\n",
      "[3918744 rows x 40 columns]\n",
      "\n",
      "X_test:\n",
      "         duration  protocol_type  service  flag  src_bytes  dst_bytes  land  \\\n",
      "213981          0              1       24     9        210       7371     0   \n",
      "1797619         0              0       15     9       1032          0     0   \n",
      "1863761         0              0       15     9       1032          0     0   \n",
      "1070547         0              1       18     5          0          0     0   \n",
      "4486786         0              1       24     9        267        283     0   \n",
      "...           ...            ...      ...   ...        ...        ...   ...   \n",
      "3567660         0              1       49     5          0          0     0   \n",
      "4787634         0              1       20     9      10261          0     0   \n",
      "3430594         0              0       14     9         18          0     0   \n",
      "1174185         0              1       49     5          0          0     0   \n",
      "605797          0              1       49     5          0          0     0   \n",
      "\n",
      "         wrong_fragment  urgent  hot  ...  dst_host_count  dst_host_srv_count  \\\n",
      "213981                0       0    0  ...              19                 255   \n",
      "1797619               0       0    0  ...             255                 255   \n",
      "1863761               0       0    0  ...             255                 255   \n",
      "1070547               0       0    0  ...             255                   1   \n",
      "4486786               0       0    0  ...             255                 246   \n",
      "...                 ...     ...  ...  ...             ...                 ...   \n",
      "3567660               0       0    0  ...             255                   1   \n",
      "4787634               0       0    0  ...              76                  65   \n",
      "3430594               0       0    0  ...               1                  28   \n",
      "1174185               0       0    0  ...             255                   6   \n",
      "605797                0       0    0  ...             255                  19   \n",
      "\n",
      "         dst_host_same_srv_rate  dst_host_diff_srv_rate  \\\n",
      "213981                     1.00                    0.00   \n",
      "1797619                    1.00                    0.00   \n",
      "1863761                    1.00                    0.00   \n",
      "1070547                    0.00                    0.07   \n",
      "4486786                    0.96                    0.01   \n",
      "...                         ...                     ...   \n",
      "3567660                    0.00                    0.07   \n",
      "4787634                    0.62                    0.08   \n",
      "3430594                    1.00                    0.00   \n",
      "1174185                    0.02                    0.07   \n",
      "605797                     0.07                    0.07   \n",
      "\n",
      "         dst_host_same_src_port_rate  dst_host_srv_diff_host_rate  \\\n",
      "213981                          0.05                         0.05   \n",
      "1797619                         1.00                         0.00   \n",
      "1863761                         1.00                         0.00   \n",
      "1070547                         0.00                         0.00   \n",
      "4486786                         0.00                         0.00   \n",
      "...                              ...                          ...   \n",
      "3567660                         0.00                         0.00   \n",
      "4787634                         0.62                         0.03   \n",
      "3430594                         1.00                         1.00   \n",
      "1174185                         0.00                         0.00   \n",
      "605797                          0.00                         0.00   \n",
      "\n",
      "         dst_host_serror_rate  dst_host_srv_serror_rate  dst_host_rerror_rate  \\\n",
      "213981                   0.00                       0.0                   0.0   \n",
      "1797619                  0.00                       0.0                   0.0   \n",
      "1863761                  0.00                       0.0                   0.0   \n",
      "1070547                  1.00                       1.0                   0.0   \n",
      "4486786                  0.00                       0.0                   0.0   \n",
      "...                       ...                       ...                   ...   \n",
      "3567660                  1.00                       1.0                   0.0   \n",
      "4787634                  0.01                       0.0                   0.0   \n",
      "3430594                  0.00                       0.0                   0.0   \n",
      "1174185                  1.00                       1.0                   0.0   \n",
      "605797                   1.00                       1.0                   0.0   \n",
      "\n",
      "         dst_host_srv_rerror_rate  \n",
      "213981                        0.0  \n",
      "1797619                       0.0  \n",
      "1863761                       0.0  \n",
      "1070547                       0.0  \n",
      "4486786                       0.0  \n",
      "...                           ...  \n",
      "3567660                       0.0  \n",
      "4787634                       0.0  \n",
      "3430594                       0.0  \n",
      "1174185                       0.0  \n",
      "605797                        0.0  \n",
      "\n",
      "[979686 rows x 40 columns]\n",
      "\n",
      "y_train:\n",
      "4022438    0\n",
      "1093648    0\n",
      "4195845    0\n",
      "4185494    0\n",
      "4215401    0\n",
      "          ..\n",
      "1554661    0\n",
      "2418654    0\n",
      "677997     0\n",
      "1152480    0\n",
      "1980080    0\n",
      "Name: attack, Length: 3918744, dtype: int64\n",
      "y_test:\n",
      "213981     1\n",
      "1797619    0\n",
      "1863761    0\n",
      "1070547    0\n",
      "4486786    1\n",
      "          ..\n",
      "3567660    0\n",
      "4787634    1\n",
      "3430594    0\n",
      "1174185    0\n",
      "605797     0\n",
      "Name: attack, Length: 979686, dtype: int64\n"
     ]
    }
   ],
   "source": [
    "X_train, X_test, y_train, y_test = train_test_split(df.drop('attack', axis=1), df['attack'], test_size=0.2,  random_state=50)\n",
    "\n",
    "print(f'X_train:\\n{X_train}\\n\\nX_test:\\n{X_test}\\n\\ny_train:\\n{y_train}\\ny_test:\\n{y_test}')"
   ]
  },
  {
   "cell_type": "markdown",
   "metadata": {
    "id": "dyvgSVMHZePa",
    "tags": []
   },
   "source": [
    "## Dimensionando os dados:"
   ]
  },
  {
   "cell_type": "code",
   "execution_count": 5,
   "metadata": {
    "executionInfo": {
     "elapsed": 3978,
     "status": "ok",
     "timestamp": 1638382647369,
     "user": {
      "displayName": "José Barata",
      "photoUrl": "https://lh3.googleusercontent.com/a-/AOh14GgEUMkNgm6N5nU2cJLghgqBZhrjjmLXlyc7lF9B=s64",
      "userId": "12962950916096112455"
     },
     "user_tz": 180
    },
    "id": "HTf2ZOSqZePa"
   },
   "outputs": [
    {
     "name": "stdout",
     "output_type": "stream",
     "text": [
      "Scaler:\n",
      "StandardScaler()\n",
      "\n",
      "X_train_transformed:\n",
      "[[-0.06691307 -0.80550111 -0.69557793 ... -0.4653043  -0.25076467\n",
      "  -0.24955808]\n",
      " [-0.06691307  0.94055651  1.59651726 ...  2.1518123  -0.25076467\n",
      "  -0.24955808]\n",
      " [-0.06691307 -0.80550111 -0.69557793 ... -0.4653043  -0.25076467\n",
      "  -0.24955808]\n",
      " ...\n",
      " [-0.06691307  0.94055651  1.59651726 ...  2.1518123  -0.25076467\n",
      "  -0.24955808]\n",
      " [-0.06691307  0.94055651  1.59651726 ...  2.1518123  -0.25076467\n",
      "  -0.24955808]\n",
      " [-0.06691307 -0.80550111 -0.69557793 ... -0.4653043  -0.25076467\n",
      "  -0.24955808]]\n",
      "\n",
      "X_test_transformed:\n",
      "[[-0.06691307  0.94055651 -0.08884685 ... -0.4653043  -0.25076467\n",
      "  -0.24955808]\n",
      " [-0.06691307 -0.80550111 -0.69557793 ... -0.4653043  -0.25076467\n",
      "  -0.24955808]\n",
      " [-0.06691307 -0.80550111 -0.69557793 ... -0.4653043  -0.25076467\n",
      "  -0.24955808]\n",
      " ...\n",
      " [-0.06691307 -0.80550111 -0.76299249 ... -0.4653043  -0.25076467\n",
      "  -0.24955808]\n",
      " [-0.06691307  0.94055651  1.59651726 ...  2.1518123  -0.25076467\n",
      "  -0.24955808]\n",
      " [-0.06691307  0.94055651  1.59651726 ...  2.1518123  -0.25076467\n",
      "  -0.24955808]]\n"
     ]
    }
   ],
   "source": [
    "scaler = StandardScaler().fit(X_train)\n",
    "X_train_transformed = scaler.transform(X_train)\n",
    "X_test_transformed = scaler.transform(X_test)\n",
    "\n",
    "print(f'Scaler:\\n{scaler}\\n\\nX_train_transformed:\\n{X_train_transformed}\\n\\nX_test_transformed:\\n{X_test_transformed}')"
   ]
  },
  {
   "cell_type": "markdown",
   "metadata": {
    "id": "Ny3lWssRZePa"
   },
   "source": [
    "## Treinando o Gradient Boosting Classifier com hiperparâmetros e ajustando (.fit) os dados:"
   ]
  },
  {
   "cell_type": "code",
   "execution_count": 6,
   "metadata": {
    "executionInfo": {
     "elapsed": 346,
     "status": "ok",
     "timestamp": 1638382655019,
     "user": {
      "displayName": "José Barata",
      "photoUrl": "https://lh3.googleusercontent.com/a-/AOh14GgEUMkNgm6N5nU2cJLghgqBZhrjjmLXlyc7lF9B=s64",
      "userId": "12962950916096112455"
     },
     "user_tz": 180
    },
    "id": "Q6OPb_PYZePa"
   },
   "outputs": [
    {
     "data": {
      "text/plain": [
       "0.03306875876556366"
      ]
     },
     "execution_count": 6,
     "metadata": {},
     "output_type": "execute_result"
    }
   ],
   "source": [
    "# Hiperparâmetros:\n",
    "# learning_rate => controla a rapidez com que o modelo aprende. Quanto menor a taxa, mais lento o modelo aprende, porém, mais robusto e eficiente fica e evita overfitting.\n",
    "# n_estimators => número de árvores usadas no modelo.\n",
    "# Quanto menor o learning_rate, maior deve ser o n_estimators, porém, se não for ajustado corretamente, pode ocorrer overfitting.\n",
    "\n",
    "gbc = GradientBoostingClassifier(n_estimators=100, learning_rate=1.0, random_state=5).fit(X_train_transformed, y_train)"
   ]
  },
  {
   "cell_type": "markdown",
   "metadata": {},
   "source": [
    "### Calculando o score do GBC:"
   ]
  },
  {
   "cell_type": "code",
   "execution_count": 16,
   "metadata": {},
   "outputs": [
    {
     "name": "stdout",
     "output_type": "stream",
     "text": [
      "Score:\n",
      " 0.03306875876556366\n"
     ]
    }
   ],
   "source": [
    "# Método score retorna a precisão média nos dados de teste e rótulos fornecidos.\n",
    "gbc_score = gbc.score(X_test, y_test)\n",
    "\n",
    "print(f'Score:\\n {gbc_score}')"
   ]
  },
  {
   "cell_type": "markdown",
   "metadata": {
    "id": "dGyBXfbxZePb"
   },
   "source": [
    "## Matriz de Confusão:"
   ]
  },
  {
   "cell_type": "code",
   "execution_count": 10,
   "metadata": {
    "colab": {
     "base_uri": "https://localhost:8080/",
     "height": 0
    },
    "executionInfo": {
     "elapsed": 1102,
     "status": "ok",
     "timestamp": 1638382699698,
     "user": {
      "displayName": "José Barata",
      "photoUrl": "https://lh3.googleusercontent.com/a-/AOh14GgEUMkNgm6N5nU2cJLghgqBZhrjjmLXlyc7lF9B=s64",
      "userId": "12962950916096112455"
     },
     "user_tz": 180
    },
    "id": "6avolCigfQxk",
    "outputId": "ebd4f476-fd6a-4675-8b6a-cb8e56c62909"
   },
   "outputs": [
    {
     "name": "stdout",
     "output_type": "stream",
     "text": [
      "Matriz de Confusão:\n",
      " [[785016     67]\n",
      " [   512 194091]]\n"
     ]
    },
    {
     "data": {
      "text/plain": [
       "Text(0.5, 0, 'Previsto')"
      ]
     },
     "execution_count": 10,
     "metadata": {},
     "output_type": "execute_result"
    },
    {
     "data": {
      "image/png": "[encoded data removed]",
      "text/plain": [
       "<Figure size 432x288 with 2 Axes>"
      ]
     },
     "metadata": {
      "needs_background": "light"
     },
     "output_type": "display_data"
    }
   ],
   "source": [
    "y_pred = gbc.predict(X_test_transformed)\n",
    "conf_mat = confusion_matrix(y_pred, y_test)\n",
    "print('Matriz de Confusão:\\n', conf_mat)\n",
    "\n",
    "labels = ['Class 0', 'Class 1']\n",
    "fig = plt.figure()\n",
    "ax = fig.add_subplot(111)\n",
    "cax = ax.matshow(conf_mat, cmap=plt.cm.Blues)\n",
    "fig.colorbar(cax)\n",
    "ax.set_xticklabels([''] + labels)\n",
    "ax.set_yticklabels([''] + labels)\n",
    "plt.xlabel('Previsto')"
   ]
  },
  {
   "cell_type": "markdown",
   "metadata": {
    "id": "sNufzoIOA6FB"
   },
   "source": [
    "### Calculando a Precisão, Verdadeiro Negativo (TN), Falso Positivo (FP), Falso Negativo (FN) e Verdadeiro Positivo (TP):"
   ]
  },
  {
   "cell_type": "code",
   "execution_count": 11,
   "metadata": {
    "colab": {
     "base_uri": "https://localhost:8080/"
    },
    "executionInfo": {
     "elapsed": 649,
     "status": "ok",
     "timestamp": 1638382714705,
     "user": {
      "displayName": "José Barata",
      "photoUrl": "https://lh3.googleusercontent.com/a-/AOh14GgEUMkNgm6N5nU2cJLghgqBZhrjjmLXlyc7lF9B=s64",
      "userId": "12962950916096112455"
     },
     "user_tz": 180
    },
    "id": "mNGE7AbMZePc",
    "outputId": "b6e4e28e-01c8-45b6-91ab-7c4597bf5130"
   },
   "outputs": [
    {
     "name": "stdout",
     "output_type": "stream",
     "text": [
      "A precisão é: 99.74%\n",
      "A taxa de Recall é: 1.00%\n",
      "A quantidade de Casos Positivos Corretamente Identificados é 194091\n",
      "F1_Score: 0.9985106530747683\n",
      "F1_Score: 0.9985106530747683\n",
      "A precisão é 99.94% \n",
      " Verdadeiro-negativo 785016\n",
      " Falso-positivo 512 \n",
      " Falso-negativo 67 \n",
      " Verdadeiro-positivo 194091\n"
     ]
    }
   ],
   "source": [
    "#print('964.925 classificações corretas vs 14.761 classificações erradas')\n",
    "# Casos Positivos Corretamente Identificados (CPCI) = TP\n",
    "# Casos Positivos Previstos (CPP) = TP + FP\n",
    "# Casos Positivos Reais (CPR) = TP + FN\n",
    "\n",
    "threshold = 0.5\n",
    "y_pred_class = y_pred > threshold\n",
    "tn, fp, fn, tp = confusion_matrix(y_test, y_pred_class).ravel()\n",
    "accuracy = (tp + tn) / (tp + fp + fn + tn)\n",
    "\n",
    "CPCI = tp\n",
    "CPP = tp + fp\n",
    "CPR = tp + fn\n",
    "precisao = CPCI / CPP\n",
    "recall = CPCI / CPR\n",
    "f1score = 2 * ((precisao * recall) / (precisao + recall))\n",
    "f1score_ = f1_score(y_test, y_pred)\n",
    "\n",
    "print(f'A precisão é: %.2f%%' % (precisao * 100))\n",
    "print(f'A taxa de Recall é: %.2f%%' % recall)\n",
    "print(f'A quantidade de Casos Positivos Corretamente Identificados é {CPCI}')\n",
    "print(f'F1_Score: {f1score}')\n",
    "print(f'F1_Score: {f1score_}')\n",
    "print(f'A precisão é %.2f%% \\n Verdadeiro-negativo {tn}\\n Falso-positivo {fp} \\n Falso-negativo {fn} \\n Verdadeiro-positivo {tp}' % (accuracy * 100))"
   ]
  },
  {
   "cell_type": "markdown",
   "metadata": {
    "id": "7QnP6ZQuBknL"
   },
   "source": [
    "### Calculando o Recall:"
   ]
  },
  {
   "cell_type": "code",
   "execution_count": null,
   "metadata": {
    "colab": {
     "base_uri": "https://localhost:8080/"
    },
    "executionInfo": {
     "elapsed": 249,
     "status": "ok",
     "timestamp": 1638382733955,
     "user": {
      "displayName": "José Barata",
      "photoUrl": "https://lh3.googleusercontent.com/a-/AOh14GgEUMkNgm6N5nU2cJLghgqBZhrjjmLXlyc7lF9B=s64",
      "userId": "12962950916096112455"
     },
     "user_tz": 180
    },
    "id": "ceYBvkABBoCv",
    "outputId": "ab9f9c4e-2bc4-4b9c-867d-2fc0b372ee92"
   },
   "outputs": [],
   "source": [
    "recall = tp / (tp + fn)\n",
    "print(f'O valor do recall é %.2f%%' % (recall * 100))"
   ]
  },
  {
   "cell_type": "markdown",
   "metadata": {
    "id": "UiPeAhXMKax3"
   },
   "source": [
    "### Calculando a pontuação ROC AUC e curva ROC:"
   ]
  },
  {
   "cell_type": "code",
   "execution_count": 12,
   "metadata": {
    "executionInfo": {
     "elapsed": 319,
     "status": "ok",
     "timestamp": 1638382739557,
     "user": {
      "displayName": "José Barata",
      "photoUrl": "https://lh3.googleusercontent.com/a-/AOh14GgEUMkNgm6N5nU2cJLghgqBZhrjjmLXlyc7lF9B=s64",
      "userId": "12962950916096112455"
     },
     "user_tz": 180
    },
    "id": "lzIVyQFLNxtD"
   },
   "outputs": [],
   "source": [
    "def plot_roc_cur(fper, tper):  \n",
    "    plt.plot(fper, tper, color='orange', label='ROC')\n",
    "    plt.plot([0, 1], [0, 1], color='darkblue', linestyle='--')\n",
    "    plt.xlabel('Taxa de falso positivo')\n",
    "    plt.ylabel('Taxa de Verdadeiro Positivo')\n",
    "    plt.title('Curva Receiver Operating Characteristic (ROC)')\n",
    "    plt.legend()\n",
    "    plt.show()"
   ]
  },
  {
   "cell_type": "code",
   "execution_count": 13,
   "metadata": {
    "colab": {
     "base_uri": "https://localhost:8080/",
     "height": 0
    },
    "executionInfo": {
     "elapsed": 1785,
     "status": "ok",
     "timestamp": 1638382745195,
     "user": {
      "displayName": "José Barata",
      "photoUrl": "https://lh3.googleusercontent.com/a-/AOh14GgEUMkNgm6N5nU2cJLghgqBZhrjjmLXlyc7lF9B=s64",
      "userId": "12962950916096112455"
     },
     "user_tz": 180
    },
    "id": "abPaT-htKiqs",
    "outputId": "3eea45f5-37ac-4ab9-dd5f-ee5c44102501"
   },
   "outputs": [
    {
     "name": "stdout",
     "output_type": "stream",
     "text": [
      "A pontuação ROC AUC é 0.999501564661141\n"
     ]
    },
    {
     "data": {
      "image/png": "[encoded data removed]",
      "text/plain": [
       "<Figure size 432x288 with 1 Axes>"
      ]
     },
     "metadata": {
      "needs_background": "light"
     },
     "output_type": "display_data"
    }
   ],
   "source": [
    "roc_auc = roc_auc_score(y_test, y_pred)\n",
    "print(f'A pontuação ROC AUC é {roc_auc}')\n",
    "\n",
    "model = gbc\n",
    "probs = model.predict_proba(X_test)\n",
    "probs = probs[:,1]\n",
    "fper, tper, thresholds = roc_curve(y_test, probs)\n",
    "plot_roc_cur(fper, tper)"
   ]
  },
  {
   "cell_type": "code",
   "execution_count": null,
   "metadata": {
    "colab": {
     "base_uri": "https://localhost:8080/"
    },
    "executionInfo": {
     "elapsed": 300,
     "status": "ok",
     "timestamp": 1638382749856,
     "user": {
      "displayName": "José Barata",
      "photoUrl": "https://lh3.googleusercontent.com/a-/AOh14GgEUMkNgm6N5nU2cJLghgqBZhrjjmLXlyc7lF9B=s64",
      "userId": "12962950916096112455"
     },
     "user_tz": 180
    },
    "id": "K7m_EUtbZePc",
    "outputId": "b08f0984-6a7d-4dc0-f4cf-ab9c03978451"
   },
   "outputs": [],
   "source": [
    "average_precision_score(y_test, y_pred)"
   ]
  },
  {
   "cell_type": "markdown",
   "metadata": {
    "id": "cBc4_i-dnCnO",
    "tags": []
   },
   "source": [
    "# Avaliando a Precisão com os dados balanceados (Undersampling) usando o modelo Gradient Boosting Classifier (GBC):"
   ]
  },
  {
   "cell_type": "markdown",
   "metadata": {
    "id": "XOZB4U0ph8VE"
   },
   "source": [
    "## Contando as classificações:"
   ]
  },
  {
   "cell_type": "code",
   "execution_count": 4,
   "metadata": {
    "colab": {
     "base_uri": "https://localhost:8080/"
    },
    "executionInfo": {
     "elapsed": 299,
     "status": "ok",
     "timestamp": 1638449472362,
     "user": {
      "displayName": "José Barata",
      "photoUrl": "https://lh3.googleusercontent.com/a-/AOh14GgEUMkNgm6N5nU2cJLghgqBZhrjjmLXlyc7lF9B=s64",
      "userId": "12962950916096112455"
     },
     "user_tz": 180
    },
    "id": "oWRGwxhth7Tg",
    "outputId": "11b8b1ce-a711-47d1-a625-2fd211eb0ff5"
   },
   "outputs": [
    {
     "name": "stdout",
     "output_type": "stream",
     "text": [
      "Ataques: 3925650\n",
      "Normal: 972780\n"
     ]
    }
   ],
   "source": [
    "count_class_0, count_class_1 = df.attack.value_counts()\n",
    "print(f'Ataques: {count_class_0}\\nNormal: {count_class_1}')"
   ]
  },
  {
   "cell_type": "markdown",
   "metadata": {
    "id": "fRHTn7h9iOV-"
   },
   "source": [
    "## Dividindo o dataframe por classificação:"
   ]
  },
  {
   "cell_type": "code",
   "execution_count": 5,
   "metadata": {
    "executionInfo": {
     "elapsed": 997,
     "status": "ok",
     "timestamp": 1638449477930,
     "user": {
      "displayName": "José Barata",
      "photoUrl": "https://lh3.googleusercontent.com/a-/AOh14GgEUMkNgm6N5nU2cJLghgqBZhrjjmLXlyc7lF9B=s64",
      "userId": "12962950916096112455"
     },
     "user_tz": 180
    },
    "id": "r0QFVgdCiTFf"
   },
   "outputs": [],
   "source": [
    "df_class_0 = df[df['attack'] == 0]\n",
    "df_class_1 = df[df['attack'] == 1]"
   ]
  },
  {
   "cell_type": "markdown",
   "metadata": {
    "id": "7FWz60xUitIA"
   },
   "source": [
    "## Balanceando a base por Undersampling:"
   ]
  },
  {
   "cell_type": "code",
   "execution_count": 6,
   "metadata": {
    "colab": {
     "base_uri": "https://localhost:8080/",
     "height": 363
    },
    "executionInfo": {
     "elapsed": 1945,
     "status": "ok",
     "timestamp": 1638449483540,
     "user": {
      "displayName": "José Barata",
      "photoUrl": "https://lh3.googleusercontent.com/a-/AOh14GgEUMkNgm6N5nU2cJLghgqBZhrjjmLXlyc7lF9B=s64",
      "userId": "12962950916096112455"
     },
     "user_tz": 180
    },
    "id": "XqIN8rMdiyzp",
    "outputId": "26d307bb-5d9b-4cb8-91d5-81d239937f84"
   },
   "outputs": [
    {
     "name": "stdout",
     "output_type": "stream",
     "text": [
      "Random undersampling:\n",
      "0    972780\n",
      "1    972780\n",
      "Name: attack, dtype: int64\n"
     ]
    },
    {
     "data": {
      "text/plain": [
       "<AxesSubplot:title={'center':'Count (attack)'}>"
      ]
     },
     "execution_count": 6,
     "metadata": {},
     "output_type": "execute_result"
    },
    {
     "data": {
      "image/png": "[encoded data removed]",
      "text/plain": [
       "<Figure size 432x288 with 1 Axes>"
      ]
     },
     "metadata": {
      "needs_background": "light"
     },
     "output_type": "display_data"
    }
   ],
   "source": [
    "df_class_0_under = df_class_0.sample(count_class_1)\n",
    "df_test_under = pd.concat([df_class_0_under, df_class_1], axis=0)\n",
    "\n",
    "print('Random undersampling:')\n",
    "print(df_test_under.attack.value_counts())\n",
    "\n",
    "df_test_under.attack.value_counts().plot(kind='bar', title='Count (attack)', color=['#FF7F0E', '#1F77B4'])"
   ]
  },
  {
   "cell_type": "markdown",
   "metadata": {
    "id": "m3VKjloslg0m"
   },
   "source": [
    "## GBC na base Undersampling:"
   ]
  },
  {
   "cell_type": "markdown",
   "metadata": {
    "id": "CRyX6Lxunih5",
    "tags": []
   },
   "source": [
    "### Dividindo os dados em Treinamento e Teste:"
   ]
  },
  {
   "cell_type": "code",
   "execution_count": 24,
   "metadata": {
    "colab": {
     "base_uri": "https://localhost:8080/"
    },
    "executionInfo": {
     "elapsed": 2506,
     "status": "ok",
     "timestamp": 1638449497484,
     "user": {
      "displayName": "José Barata",
      "photoUrl": "https://lh3.googleusercontent.com/a-/AOh14GgEUMkNgm6N5nU2cJLghgqBZhrjjmLXlyc7lF9B=s64",
      "userId": "12962950916096112455"
     },
     "user_tz": 180
    },
    "id": "q0XTpDlwniiY",
    "outputId": "4b2f157e-6f40-43db-d7a3-067869f0391f"
   },
   "outputs": [
    {
     "name": "stdout",
     "output_type": "stream",
     "text": [
      "Labels under:\n",
      "Index(['duration', 'protocol_type', 'service', 'flag', 'src_bytes',\n",
      "       'dst_bytes', 'land', 'wrong_fragment', 'urgent', 'hot',\n",
      "       'num_failed_logins', 'logged_in', 'num_compromised', 'root_shell',\n",
      "       'su_attempted', 'num_root', 'num_file_creations', 'num_shells',\n",
      "       'num_access_files', 'is_host_login', 'is_guest_login', 'count',\n",
      "       'srv_count', 'serror_rate', 'srv_serror_rate', 'rerror_rate',\n",
      "       'srv_rerror_rate', 'same_srv_rate', 'diff_srv_rate',\n",
      "       'srv_diff_host_rate', 'dst_host_count', 'dst_host_srv_count',\n",
      "       'dst_host_same_srv_rate', 'dst_host_diff_srv_rate',\n",
      "       'dst_host_same_src_port_rate', 'dst_host_srv_diff_host_rate',\n",
      "       'dst_host_serror_rate', 'dst_host_srv_serror_rate',\n",
      "       'dst_host_rerror_rate', 'dst_host_srv_rerror_rate', 'attack'],\n",
      "      dtype='object')\n",
      "\n",
      "X:\n",
      "         duration  protocol_type  service  flag  src_bytes  dst_bytes  land  \\\n",
      "2287455         0              0       15     9       1032          0     0   \n",
      "2107138         0              0       15     9       1032          0     0   \n",
      "2693281         0              0       15     9       1032          0     0   \n",
      "2394085         0              0       15     9       1032          0     0   \n",
      "1118676         0              1       49     5          0          0     0   \n",
      "...           ...            ...      ...   ...        ...        ...   ...   \n",
      "4898425         0              1       24     9        212       2288     0   \n",
      "4898426         0              1       24     9        219        236     0   \n",
      "4898427         0              1       24     9        218       3610     0   \n",
      "4898428         0              1       24     9        219       1234     0   \n",
      "4898429         0              1       24     9        219       1098     0   \n",
      "\n",
      "         wrong_fragment  urgent  hot  ...  dst_host_srv_count  \\\n",
      "2287455               0       0    0  ...                 255   \n",
      "2107138               0       0    0  ...                 255   \n",
      "2693281               0       0    0  ...                 255   \n",
      "2394085               0       0    0  ...                 255   \n",
      "1118676               0       0    0  ...                  14   \n",
      "...                 ...     ...  ...  ...                 ...   \n",
      "4898425               0       0    0  ...                 255   \n",
      "4898426               0       0    0  ...                 255   \n",
      "4898427               0       0    0  ...                 255   \n",
      "4898428               0       0    0  ...                 255   \n",
      "4898429               0       0    0  ...                 255   \n",
      "\n",
      "         dst_host_same_srv_rate  dst_host_diff_srv_rate  \\\n",
      "2287455                    1.00                    0.00   \n",
      "2107138                    1.00                    0.00   \n",
      "2693281                    1.00                    0.00   \n",
      "2394085                    1.00                    0.00   \n",
      "1118676                    0.05                    0.07   \n",
      "...                         ...                     ...   \n",
      "4898425                    1.00                    0.00   \n",
      "4898426                    1.00                    0.00   \n",
      "4898427                    1.00                    0.00   \n",
      "4898428                    1.00                    0.00   \n",
      "4898429                    1.00                    0.00   \n",
      "\n",
      "         dst_host_same_src_port_rate  dst_host_srv_diff_host_rate  \\\n",
      "2287455                         1.00                         0.00   \n",
      "2107138                         1.00                         0.00   \n",
      "2693281                         1.00                         0.00   \n",
      "2394085                         1.00                         0.00   \n",
      "1118676                         0.00                         0.00   \n",
      "...                              ...                          ...   \n",
      "4898425                         0.33                         0.05   \n",
      "4898426                         0.25                         0.05   \n",
      "4898427                         0.20                         0.05   \n",
      "4898428                         0.17                         0.05   \n",
      "4898429                         0.14                         0.05   \n",
      "\n",
      "         dst_host_serror_rate  dst_host_srv_serror_rate  dst_host_rerror_rate  \\\n",
      "2287455                   0.0                      0.00                   0.0   \n",
      "2107138                   0.0                      0.00                   0.0   \n",
      "2693281                   0.0                      0.00                   0.0   \n",
      "2394085                   0.0                      0.00                   0.0   \n",
      "1118676                   1.0                      1.00                   0.0   \n",
      "...                       ...                       ...                   ...   \n",
      "4898425                   0.0                      0.01                   0.0   \n",
      "4898426                   0.0                      0.01                   0.0   \n",
      "4898427                   0.0                      0.01                   0.0   \n",
      "4898428                   0.0                      0.01                   0.0   \n",
      "4898429                   0.0                      0.01                   0.0   \n",
      "\n",
      "         dst_host_srv_rerror_rate  attack  \n",
      "2287455                       0.0       0  \n",
      "2107138                       0.0       0  \n",
      "2693281                       0.0       0  \n",
      "2394085                       0.0       0  \n",
      "1118676                       0.0       0  \n",
      "...                           ...     ...  \n",
      "4898425                       0.0       1  \n",
      "4898426                       0.0       1  \n",
      "4898427                       0.0       1  \n",
      "4898428                       0.0       1  \n",
      "4898429                       0.0       1  \n",
      "\n",
      "[1945560 rows x 41 columns]\n",
      "\n",
      "y:\n",
      "2287455    0\n",
      "2107138    0\n",
      "2693281    0\n",
      "2394085    0\n",
      "1118676    0\n",
      "          ..\n",
      "4898425    1\n",
      "4898426    1\n",
      "4898427    1\n",
      "4898428    1\n",
      "4898429    1\n",
      "Name: attack, Length: 1945560, dtype: int64\n"
     ]
    }
   ],
   "source": [
    "labels_under = df_test_under.columns[:]\n",
    "\n",
    "X = df_test_under[labels_under]\n",
    "y = df_test_under['attack']\n",
    "\n",
    "print(f'Labels under:\\n{labels_under}\\n\\nX:\\n{X}\\n\\ny:\\n{y}')\n",
    "\n",
    "X_train_under, X_test_under, y_train_under, y_test_under = train_test_split(X, y, test_size=0.2, random_state=50)"
   ]
  },
  {
   "cell_type": "markdown",
   "metadata": {
    "id": "_zaYb_GCM0FM",
    "tags": []
   },
   "source": [
    "## Dimensionando os dados:"
   ]
  },
  {
   "cell_type": "code",
   "execution_count": 25,
   "metadata": {
    "colab": {
     "base_uri": "https://localhost:8080/"
    },
    "executionInfo": {
     "elapsed": 1980,
     "status": "ok",
     "timestamp": 1638449504816,
     "user": {
      "displayName": "José Barata",
      "photoUrl": "https://lh3.googleusercontent.com/a-/AOh14GgEUMkNgm6N5nU2cJLghgqBZhrjjmLXlyc7lF9B=s64",
      "userId": "12962950916096112455"
     },
     "user_tz": 180
    },
    "id": "brQSMTITM0FV",
    "outputId": "339650ff-55ce-4b99-fe14-39da0a10ea4d"
   },
   "outputs": [
    {
     "name": "stdout",
     "output_type": "stream",
     "text": [
      "Scaler_under:\n",
      "StandardScaler()\n",
      "\n",
      "X_train_transformed_under:\n",
      "[[-0.11112351 -1.16948199 -0.83787958 ... -0.25292931 -0.25162054\n",
      "  -1.000365  ]\n",
      " [-0.11112351  0.42504154 -0.4844984  ... -0.25292931 -0.25162054\n",
      "   0.99963513]\n",
      " [-0.11112351  0.42504154  1.91849362 ... -0.25292931 -0.25162054\n",
      "   0.99963513]\n",
      " ...\n",
      " [-0.11112351 -1.16948199 -0.83787958 ... -0.25292931 -0.25162054\n",
      "  -1.000365  ]\n",
      " [-0.11112351 -1.16948199 -0.83787958 ... -0.25292931 -0.25162054\n",
      "  -1.000365  ]\n",
      " [-0.11112351  0.42504154 -0.20179346 ... -0.25292931 -0.25162054\n",
      "   0.99963513]]\n",
      "\n",
      "X_test_transformed_under:\n",
      "[[ 2.81228452  2.01956507  1.21173126 ... -0.25292931 -0.25162054\n",
      "   0.99963513]\n",
      " [-0.11112351  0.42504154 -0.20179346 ... -0.25292931 -0.25162054\n",
      "   0.99963513]\n",
      " [-0.11112351  0.42504154 -0.20179346 ... -0.25292931 -0.25162054\n",
      "   0.99963513]\n",
      " ...\n",
      " [-0.11112351 -1.16948199 -0.83787958 ... -0.25292931 -0.25162054\n",
      "  -1.000365  ]\n",
      " [-0.11112351 -1.16948199 -0.83787958 ... -0.25292931 -0.25162054\n",
      "  -1.000365  ]\n",
      " [-0.11112351 -1.16948199 -0.83787958 ... -0.25292931 -0.25162054\n",
      "  -1.000365  ]]\n"
     ]
    }
   ],
   "source": [
    "scaler = StandardScaler().fit(X_train_under)\n",
    "scaler_under = scaler\n",
    "X_train_transformed_under = scaler_under.transform(X_train_under)\n",
    "X_test_transformed_under = scaler_under.transform(X_test_under)\n",
    "\n",
    "print(f'Scaler_under:\\n{scaler_under}\\n\\nX_train_transformed_under:\\n{X_train_transformed_under}\\n\\nX_test_transformed_under:\\n{X_test_transformed_under}')"
   ]
  },
  {
   "cell_type": "markdown",
   "metadata": {
    "id": "-pT_GgPTM8T7"
   },
   "source": [
    "## Treinando o modelo com o Gradient Boosting Classifier definindo os hiperparâmetros e ajustando (.fit) os dados de treino:"
   ]
  },
  {
   "cell_type": "code",
   "execution_count": 14,
   "metadata": {
    "executionInfo": {
     "elapsed": 346,
     "status": "ok",
     "timestamp": 1638449511434,
     "user": {
      "displayName": "José Barata",
      "photoUrl": "https://lh3.googleusercontent.com/a-/AOh14GgEUMkNgm6N5nU2cJLghgqBZhrjjmLXlyc7lF9B=s64",
      "userId": "12962950916096112455"
     },
     "user_tz": 180
    },
    "id": "LFArCkdeM8T8"
   },
   "outputs": [
    {
     "ename": "NameError",
     "evalue": "name 'X_train_transformed_under' is not defined",
     "output_type": "error",
     "traceback": [
      "\u001b[1;31m---------------------------------------------------------------------------\u001b[0m",
      "\u001b[1;31mNameError\u001b[0m                                 Traceback (most recent call last)",
      "\u001b[1;32m~\\AppData\\Local\\Temp/ipykernel_17848/1223352542.py\u001b[0m in \u001b[0;36m<module>\u001b[1;34m\u001b[0m\n\u001b[0;32m      4\u001b[0m \u001b[1;31m# Quanto menor o learning_rate, maior deve ser o n_estimators, porém, se não for ajustado corretamente, pode ocorrer overfitting.\u001b[0m\u001b[1;33m\u001b[0m\u001b[1;33m\u001b[0m\u001b[1;33m\u001b[0m\u001b[0m\n\u001b[0;32m      5\u001b[0m \u001b[1;33m\u001b[0m\u001b[0m\n\u001b[1;32m----> 6\u001b[1;33m \u001b[0mgbc_under\u001b[0m \u001b[1;33m=\u001b[0m \u001b[0mGradientBoostingClassifier\u001b[0m\u001b[1;33m(\u001b[0m\u001b[0mn_estimators\u001b[0m\u001b[1;33m=\u001b[0m\u001b[1;36m100\u001b[0m\u001b[1;33m,\u001b[0m \u001b[0mlearning_rate\u001b[0m\u001b[1;33m=\u001b[0m\u001b[1;36m1.0\u001b[0m\u001b[1;33m,\u001b[0m \u001b[0mrandom_state\u001b[0m\u001b[1;33m=\u001b[0m\u001b[1;36m5\u001b[0m\u001b[1;33m)\u001b[0m\u001b[1;33m.\u001b[0m\u001b[0mfit\u001b[0m\u001b[1;33m(\u001b[0m\u001b[0mX_train_transformed_under\u001b[0m\u001b[1;33m,\u001b[0m \u001b[0my_train_under\u001b[0m\u001b[1;33m)\u001b[0m\u001b[1;33m\u001b[0m\u001b[1;33m\u001b[0m\u001b[0m\n\u001b[0m\u001b[0;32m      7\u001b[0m \u001b[1;33m\u001b[0m\u001b[0m\n\u001b[0;32m      8\u001b[0m \u001b[1;31m# Método score retorna a precisão média nos dados de teste e rótulos fornecidos.\u001b[0m\u001b[1;33m\u001b[0m\u001b[1;33m\u001b[0m\u001b[1;33m\u001b[0m\u001b[0m\n",
      "\u001b[1;31mNameError\u001b[0m: name 'X_train_transformed_under' is not defined"
     ]
    }
   ],
   "source": [
    "# Hiperparâmetros:\n",
    "# learning_rate => controla a rapidez com que o modelo aprende. Quanto menor a taxa, mais lento o modelo aprende, porém, mais robusto e eficiente fica e evita overfitting.\n",
    "# n_estimators => número de árvores usadas no modelo.\n",
    "# Quanto menor o learning_rate, maior deve ser o n_estimators, porém, se não for ajustado corretamente, pode ocorrer overfitting.\n",
    "\n",
    "gbc_under = GradientBoostingClassifier(n_estimators=100, learning_rate=1.0, random_state=5).fit(X_train_transformed_under, y_train_under)\n",
    "\n",
    "# Método score retorna a precisão média nos dados de teste e rótulos fornecidos.\n",
    "gbc_under.score(X_test_under, y_test_under)\n",
    "gbc_under.predict(X_test_under)"
   ]
  },
  {
   "cell_type": "markdown",
   "metadata": {
    "id": "MNtrvO_FM8T8",
    "jp-MarkdownHeadingCollapsed": true,
    "tags": []
   },
   "source": [
    "## Treinando o modelo com o GBC:"
   ]
  },
  {
   "cell_type": "code",
   "execution_count": null,
   "metadata": {
    "colab": {
     "base_uri": "https://localhost:8080/"
    },
    "executionInfo": {
     "elapsed": 370,
     "status": "ok",
     "timestamp": 1638386562618,
     "user": {
      "displayName": "José Barata",
      "photoUrl": "https://lh3.googleusercontent.com/a-/AOh14GgEUMkNgm6N5nU2cJLghgqBZhrjjmLXlyc7lF9B=s64",
      "userId": "12962950916096112455"
     },
     "user_tz": 180
    },
    "id": "NVl-3xHiM8T9",
    "outputId": "3c3c4baf-05d7-429e-b133-fe0709aee51d"
   },
   "outputs": [],
   "source": [
    "GradientBoostingClassifier(criterion='friedman_mse', init=None, learning_rate=0.05, loss='deviance', max_depth=3, max_features=20, max_leaf_nodes=None, min_impurity_decrease=0.0,\n",
    "                          min_samples_leaf=1, min_samples_split=2, min_weight_fraction_leaf=0.0, n_estimators=50, n_iter_no_change=None, random_state=20, subsample=1.0, tol=0.0001,\n",
    "                           validation_fraction=0.1, verbose=0, warm_start=False)"
   ]
  },
  {
   "cell_type": "markdown",
   "metadata": {
    "id": "fkYHFTNTNDL6"
   },
   "source": [
    "## Matriz de Confusão:"
   ]
  },
  {
   "cell_type": "code",
   "execution_count": 27,
   "metadata": {
    "colab": {
     "base_uri": "https://localhost:8080/",
     "height": 347
    },
    "executionInfo": {
     "elapsed": 715,
     "status": "ok",
     "timestamp": 1638449529207,
     "user": {
      "displayName": "José Barata",
      "photoUrl": "https://lh3.googleusercontent.com/a-/AOh14GgEUMkNgm6N5nU2cJLghgqBZhrjjmLXlyc7lF9B=s64",
      "userId": "12962950916096112455"
     },
     "user_tz": 180
    },
    "id": "DLKIxLIRNDL6",
    "outputId": "b1c2a5b8-68cc-425e-c21c-948e2e84cd18"
   },
   "outputs": [
    {
     "name": "stdout",
     "output_type": "stream",
     "text": [
      "Matriz de Confusão:\n",
      " [[194840      0]\n",
      " [     0 194272]]\n"
     ]
    },
    {
     "data": {
      "text/plain": [
       "Text(0.5, 0, 'Previsto')"
      ]
     },
     "execution_count": 27,
     "metadata": {},
     "output_type": "execute_result"
    },
    {
     "data": {
      "image/png": "[encoded data removed]",
      "text/plain": [
       "<Figure size 432x288 with 2 Axes>"
      ]
     },
     "metadata": {
      "needs_background": "light"
     },
     "output_type": "display_data"
    }
   ],
   "source": [
    "y_pred_under = gbc_under.predict(X_test_transformed_under)\n",
    "conf_mat_under = confusion_matrix(y_pred_under, y_test_under)\n",
    "print('Matriz de Confusão:\\n', conf_mat_under)\n",
    "\n",
    "labels = ['Class 0', 'Class 1']\n",
    "fig = plt.figure()\n",
    "ax = fig.add_subplot(111)\n",
    "cax = ax.matshow(conf_mat_under, cmap=plt.cm.Blues)\n",
    "fig.colorbar(cax)\n",
    "ax.set_xticklabels([''] + labels)\n",
    "ax.set_yticklabels([''] + labels)\n",
    "plt.xlabel('Previsto')"
   ]
  },
  {
   "cell_type": "markdown",
   "metadata": {
    "id": "MXAlgFufNDL6"
   },
   "source": [
    "### Calculando a Precisão, Verdadeiro Negativo (TN), Falso Positivo (FP), Falso Negativo (FN) e Verdadeiro Positivo (TP):"
   ]
  },
  {
   "cell_type": "code",
   "execution_count": 28,
   "metadata": {
    "colab": {
     "base_uri": "https://localhost:8080/"
    },
    "executionInfo": {
     "elapsed": 730,
     "status": "ok",
     "timestamp": 1638449536048,
     "user": {
      "displayName": "José Barata",
      "photoUrl": "https://lh3.googleusercontent.com/a-/AOh14GgEUMkNgm6N5nU2cJLghgqBZhrjjmLXlyc7lF9B=s64",
      "userId": "12962950916096112455"
     },
     "user_tz": 180
    },
    "id": "J2QITzhPNDL7",
    "outputId": "76de5c2b-64de-4543-81f0-86f18f2842d3"
   },
   "outputs": [
    {
     "name": "stdout",
     "output_type": "stream",
     "text": [
      "A precisão é: 100.00%\n",
      "A taxa de Recall é: 1.00\n",
      "A quantidade de Casos Positivos Corretamente Identificados é 194272\n",
      "F1_Score: 1.0\n",
      "F1_Score: 1.0\n",
      "A precisão é 100.00% \n",
      " Verdadeiro-negativo 194840\n",
      " Falso-positivo 0 \n",
      " Falso-negativo 0 \n",
      " Verdadeiro-positivo 194272\n"
     ]
    }
   ],
   "source": [
    "#print('964.925 classificações corretas vs 14.761 classificações erradas')\n",
    "# Casos Positivos Corretamente Identificados (CPCI) = TP\n",
    "# Casos Positivos Previstos (CPP) = TP + FP\n",
    "# Casos Positivos Reais (CPR) = TP + FN\n",
    "\n",
    "threshold = 0.5\n",
    "y_pred_class_under = y_pred_under > threshold\n",
    "tn, fp, fn, tp = confusion_matrix(y_test_under, y_pred_class_under).ravel()\n",
    "accuracy = (tp + tn) / (tp + fp + fn + tn)\n",
    "\n",
    "CPCI = tp\n",
    "CPP = tp + fp\n",
    "CPR = tp + fn\n",
    "precisao = CPCI / CPP\n",
    "recall = CPCI / CPR\n",
    "f1score = 2 * ((precisao * recall) / (precisao + recall))\n",
    "f1score_ = f1_score(y_test_under, y_pred_under)\n",
    "\n",
    "print(f'A precisão é: %.2f%%' % (precisao * 100))\n",
    "print(f'A taxa de Recall é: %.2f' % recall)\n",
    "print(f'A quantidade de Casos Positivos Corretamente Identificados é {CPCI}')\n",
    "print(f'F1_Score: {f1score}')\n",
    "print(f'F1_Score: {f1score_}')\n",
    "print(f'A precisão é %.2f%% \\n Verdadeiro-negativo {tn}\\n Falso-positivo {fp} \\n Falso-negativo {fn} \\n Verdadeiro-positivo {tp}' % (accuracy * 100))"
   ]
  },
  {
   "cell_type": "markdown",
   "metadata": {
    "id": "JafokyICVds3"
   },
   "source": [
    "### Calculando a pontuação ROC AUC e curva ROC:"
   ]
  },
  {
   "cell_type": "code",
   "execution_count": 29,
   "metadata": {
    "executionInfo": {
     "elapsed": 279,
     "status": "ok",
     "timestamp": 1638448668565,
     "user": {
      "displayName": "José Barata",
      "photoUrl": "https://lh3.googleusercontent.com/a-/AOh14GgEUMkNgm6N5nU2cJLghgqBZhrjjmLXlyc7lF9B=s64",
      "userId": "12962950916096112455"
     },
     "user_tz": 180
    },
    "id": "CZSNZjQgVds-"
   },
   "outputs": [],
   "source": [
    "def plot_roc_cur(fper, tper):  \n",
    "    plt.plot(fper, tper, color='orange', label='ROC')\n",
    "    plt.plot([0, 1], [0, 1], color='darkblue', linestyle='--')\n",
    "    plt.xlabel('Taxa de falso positivo')\n",
    "    plt.ylabel('Taxa de Verdadeiro Positivo')\n",
    "    plt.title('Curva Receiver Operating Characteristic (ROC)')\n",
    "    plt.legend()\n",
    "    plt.show()"
   ]
  },
  {
   "cell_type": "code",
   "execution_count": 30,
   "metadata": {
    "colab": {
     "base_uri": "https://localhost:8080/",
     "height": 312
    },
    "executionInfo": {
     "elapsed": 860,
     "status": "ok",
     "timestamp": 1638448672376,
     "user": {
      "displayName": "José Barata",
      "photoUrl": "https://lh3.googleusercontent.com/a-/AOh14GgEUMkNgm6N5nU2cJLghgqBZhrjjmLXlyc7lF9B=s64",
      "userId": "12962950916096112455"
     },
     "user_tz": 180
    },
    "id": "jAJQFaAaVds_",
    "outputId": "b8b5115b-373d-48e0-a146-04ae0f2d5bf8"
   },
   "outputs": [
    {
     "name": "stdout",
     "output_type": "stream",
     "text": [
      "A pontuação ROC AUC é 1.0\n"
     ]
    },
    {
     "data": {
      "image/png": "[encoded data removed]",
      "text/plain": [
       "<Figure size 432x288 with 1 Axes>"
      ]
     },
     "metadata": {
      "needs_background": "light"
     },
     "output_type": "display_data"
    }
   ],
   "source": [
    "roc_auc_under = roc_auc_score(y_test_under, y_pred_under)\n",
    "print(f'A pontuação ROC AUC é {roc_auc_under}')\n",
    "\n",
    "model = gbc_under\n",
    "probs = model.predict_proba(X_test_under)\n",
    "probs = probs[:,1]\n",
    "fper, tper, thresholds = roc_curve(y_test_under, probs)\n",
    "plot_roc_cur(fper, tper)"
   ]
  },
  {
   "cell_type": "markdown",
   "metadata": {
    "id": "7YQ73RA64zW3",
    "jp-MarkdownHeadingCollapsed": true,
    "tags": []
   },
   "source": [
    "# Testando a Precisão com os dados balanceados (Oversampling) usando o Classificador Gradient Boosting:"
   ]
  },
  {
   "cell_type": "markdown",
   "metadata": {
    "id": "Y-nZr-iO4zXB"
   },
   "source": [
    "## Contando as classificações:"
   ]
  },
  {
   "cell_type": "code",
   "execution_count": null,
   "metadata": {
    "colab": {
     "base_uri": "https://localhost:8080/"
    },
    "executionInfo": {
     "elapsed": 285,
     "status": "ok",
     "timestamp": 1638394786799,
     "user": {
      "displayName": "José Barata",
      "photoUrl": "https://lh3.googleusercontent.com/a-/AOh14GgEUMkNgm6N5nU2cJLghgqBZhrjjmLXlyc7lF9B=s64",
      "userId": "12962950916096112455"
     },
     "user_tz": 180
    },
    "id": "7nEixqx14zXC",
    "outputId": "2e45ffad-76f8-47ff-8051-3bf29e8b8df3"
   },
   "outputs": [],
   "source": [
    "count_class_0, count_class_1 = df.attack.value_counts()\n",
    "print(f'Ataques: {count_class_0}\\nNormal: {count_class_1}')"
   ]
  },
  {
   "cell_type": "markdown",
   "metadata": {
    "id": "mEigCBr44zXC"
   },
   "source": [
    "## Dividindo o dataframe por classificação:"
   ]
  },
  {
   "cell_type": "code",
   "execution_count": null,
   "metadata": {
    "executionInfo": {
     "elapsed": 807,
     "status": "ok",
     "timestamp": 1638394790776,
     "user": {
      "displayName": "José Barata",
      "photoUrl": "https://lh3.googleusercontent.com/a-/AOh14GgEUMkNgm6N5nU2cJLghgqBZhrjjmLXlyc7lF9B=s64",
      "userId": "12962950916096112455"
     },
     "user_tz": 180
    },
    "id": "ftEDlKmI4zXD"
   },
   "outputs": [],
   "source": [
    "df_class_0 = df[df['attack'] == 0]\n",
    "df_class_1 = df[df['attack'] == 1]"
   ]
  },
  {
   "cell_type": "markdown",
   "metadata": {
    "id": "Z-rJzyDs5Ajz"
   },
   "source": [
    "## Balanceando a base por Oversampling:"
   ]
  },
  {
   "cell_type": "code",
   "execution_count": null,
   "metadata": {
    "colab": {
     "base_uri": "https://localhost:8080/",
     "height": 0
    },
    "executionInfo": {
     "elapsed": 9839,
     "status": "ok",
     "timestamp": 1638394803980,
     "user": {
      "displayName": "José Barata",
      "photoUrl": "https://lh3.googleusercontent.com/a-/AOh14GgEUMkNgm6N5nU2cJLghgqBZhrjjmLXlyc7lF9B=s64",
      "userId": "12962950916096112455"
     },
     "user_tz": 180
    },
    "id": "iLZa7vBl5DJ8",
    "outputId": "6501b417-d52c-415b-e2c3-3aa04c331cec"
   },
   "outputs": [],
   "source": [
    "df_class_1_over = df_class_1.sample(count_class_0, replace=True)\n",
    "df_test_over = pd.concat([df_class_0, df_class_1_over], axis=0)\n",
    "\n",
    "print('Random Oversampling:')\n",
    "print(df_test_over.attack.value_counts())\n",
    "\n",
    "df_test_over.attack.value_counts().plot(kind='bar', title='Count (attack)')"
   ]
  },
  {
   "cell_type": "markdown",
   "metadata": {
    "id": "apMBz_9u82xP"
   },
   "source": [
    "## GBC na base Oversampling:"
   ]
  },
  {
   "cell_type": "markdown",
   "metadata": {
    "id": "1co4qpIY82xX",
    "tags": []
   },
   "source": [
    "### Dividindo os dados em Treinamento e Teste:"
   ]
  },
  {
   "cell_type": "code",
   "execution_count": null,
   "metadata": {
    "colab": {
     "base_uri": "https://localhost:8080/"
    },
    "id": "e41H79hY82xX",
    "outputId": "368b5e1f-abe3-4891-871f-5b4fbbb041b2"
   },
   "outputs": [],
   "source": [
    "labels_over = df_test_over.columns[:]\n",
    "\n",
    "X = df_test_over[labels_over]\n",
    "y = df_test_over['attack']\n",
    "\n",
    "print(f'Labels over:\\n{labels_over}\\n\\nX:\\n{X}\\n\\ny:\\n{y}')\n",
    "\n",
    "X_train_over, X_test_over, y_train_over, y_test_over = train_test_split(X, y, test_size=0.2, random_state=1)"
   ]
  }
 ],
 "metadata": {
  "colab": {
   "collapsed_sections": [
    "2xhNoZk7UkoD",
    "QnRJ7eQDUkoJ",
    "A2TJq8sYUkoK",
    "5gXzmYU-Ukoc",
    "xXrOrYQIMxAb",
    "D1tscgUTmwB5",
    "MNtrvO_FM8T8",
    "7YQ73RA64zW3",
    "mEigCBr44zXC",
    "Z-rJzyDs5Ajz",
    "apMBz_9u82xP",
    "1co4qpIY82xX"
   ],
   "name": "ml_anomaly_detection_idc.ipynb",
   "provenance": []
  },
  "interpreter": {
   "hash": "aee8b7b246df8f9039afb4144a1f6fd8d2ca17a180786b69acc140d282b71a49"
  },
  "kernelspec": {
   "display_name": "Python 3 (ipykernel)",
   "language": "python",
   "name": "python3"
  },
  "language_info": {
   "codemirror_mode": {
    "name": "ipython",
    "version": 3
   },
   "file_extension": ".py",
   "mimetype": "text/x-python",
   "name": "python",
   "nbconvert_exporter": "python",
   "pygments_lexer": "ipython3",
   "version": "3.9.5"
  }
 },
 "nbformat": 4,
 "nbformat_minor": 4
}
